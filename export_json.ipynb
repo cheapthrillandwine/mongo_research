{
 "cells": [
  {
   "cell_type": "code",
   "execution_count": 5,
   "metadata": {},
   "outputs": [],
   "source": [
    "import argparse\n",
    "from pymongo import MongoClient as Client\n",
    "from bson import BSON\n",
    "from bson import json_util\n",
    "import json\n",
    "import os"
   ]
  },
  {
   "cell_type": "code",
   "execution_count": 6,
   "metadata": {},
   "outputs": [
    {
     "name": "stderr",
     "output_type": "stream",
     "text": [
      "usage: ipykernel_launcher.py [-h] [--db d] [--collection c] [--offset O]\n",
      "                             [--prefix o] [--dir D]\n",
      "ipykernel_launcher.py: error: unrecognized arguments: -f C:\\Users\\NSW00_906882\\AppData\\Roaming\\jupyter\\runtime\\kernel-4533ec05-e0d0-49ee-a60a-d4e51f3a6e23.json\n"
     ]
    },
    {
     "ename": "SystemExit",
     "evalue": "2",
     "output_type": "error",
     "traceback": [
      "An exception has occurred, use %tb to see the full traceback.\n",
      "\u001b[1;31mSystemExit\u001b[0m\u001b[1;31m:\u001b[0m 2\n"
     ]
    },
    {
     "name": "stderr",
     "output_type": "stream",
     "text": [
      "c:\\users\\nsw00_906882\\appdata\\local\\continuum\\anaconda3\\envs\\django\\lib\\site-packages\\IPython\\core\\interactiveshell.py:2971: UserWarning: To exit: use 'exit', 'quit', or Ctrl-D.\n",
      "  warn(\"To exit: use 'exit', 'quit', or Ctrl-D.\", stacklevel=1)\n"
     ]
    }
   ],
   "source": [
    "# mongo client\n",
    "client =Client(\"mongodb://cityvision:J5LpmY1wmSz4EGEz8Qrjv9rPKJTcWSQjcyqr7S4W63cUzl3LZzghuzN4QMdvC00osNyP8eXMxSZQHt5bdtfv4w==@cityvision.documents.azure.com:10255/?ssl=true&replicaSet=globaldb\")\n",
    "\n",
    "# script arguments\n",
    "parser = argparse.ArgumentParser()\n",
    "parser.add_argument('--db', metavar='d', type=str, help='specify a mongo db', dest='db',default='cityvision')\n",
    "parser.add_argument('--collection', metavar='c', type=str, help='specify a mongo collection', dest='collection',default='result')\n",
    "parser.add_argument('--offset', metavar='O', type=int, help='specify an offset ', dest='offset',default=1000)\n",
    "parser.add_argument('--prefix', metavar='o', type=str, help='specify an output prefix', dest='prefix')\n",
    "parser.add_argument('--dir', metavar='D', type=str, help='specify an existing directory', dest='directory', default=r'C:\\Users\\NSW00_906882\\Desktop\\mongo\\json')\n",
    "args = parser.parse_args()\n",
    "\n",
    "# variables\n",
    "db = client[args.db]\n",
    "collection = db[args.collection]\n",
    "offset = args.offset\n",
    "prefix = args.prefix\n",
    "\n",
    "print('Selected database: {}'.format(db))\n",
    "print('Selected collection: {}'.format(collection))\n",
    "print('Offset: {}'.format(offset))\n",
    "\n",
    "last_offset = 0\n",
    "\n",
    "def json_chunks(offset):\n",
    "    offset = offset\n",
    "    total_docs = collection.find().count()\n",
    "    print('total_docs: {}'.format(total_docs))\n",
    "    if total_docs < offset:\n",
    "\n",
    "        print('! Error: offset is greater than number of total documents')\n",
    "        exit()\n",
    "\n",
    "\n",
    "    chunks = total_docs / offset\n",
    "    chunk_idx = 0\n",
    "\n",
    "    for i in range(0, total_docs + offset, offset):\n",
    "        if i >= total_docs:\n",
    "\n",
    "            print('export successfully finished')\n",
    "            exit()\n",
    "        dump = None\n",
    "        docs = None\n",
    "        json_file_path = os.path.join('{}'.format(args.directory), '{}_chunk__{}.json'.format(args.prefix, chunk_idx))\n",
    "        # print(json_file_path)\n",
    "\n",
    "        print('i: {}'.format(i))\n",
    "        print('offset: {}'.format(i + offset))\n",
    "\n",
    "        print('query: collection.find().skip({}).limit({})'.format(i, offset))\n",
    "\n",
    "        if i + offset > total_docs:\n",
    "            offset_diff = offset - total_docs\n",
    "            offset = offset - offset_diffc\n",
    "\n",
    "        docs = collection.find().skip(i).limit(offset)\n",
    "        # print(docs)\n",
    "        with open(json_file_path, 'w') as outfile:\n",
    "            dump = json.dumps([doc for doc in docs], sort_keys=False, indent=4, default=json_util.default)\n",
    "            print(dump)\n",
    "            outfile.write(dump)\n",
    "        chunk_idx += 1\n",
    "    print('export successfully finished')\n",
    "\n",
    "json_chunks(offset)\n"
   ]
  },
  {
   "cell_type": "code",
   "execution_count": null,
   "metadata": {},
   "outputs": [],
   "source": [
    "### csvが大きいためかipythonでは実行できません。"
   ]
  }
 ],
 "metadata": {
  "kernelspec": {
   "display_name": "Python 3",
   "language": "python",
   "name": "python3"
  },
  "language_info": {
   "codemirror_mode": {
    "name": "ipython",
    "version": 3
   },
   "file_extension": ".py",
   "mimetype": "text/x-python",
   "name": "python",
   "nbconvert_exporter": "python",
   "pygments_lexer": "ipython3",
   "version": "3.6.4"
  }
 },
 "nbformat": 4,
 "nbformat_minor": 2
}
