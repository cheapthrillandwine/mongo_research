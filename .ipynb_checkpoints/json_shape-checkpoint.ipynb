{
 "cells": [
  {
   "cell_type": "code",
   "execution_count": 4,
   "metadata": {},
   "outputs": [],
   "source": [
    "import json\n",
    "from collections import OrderedDict\n",
    "import pprint\n",
    "import pandas as pd"
   ]
  },
  {
   "cell_type": "code",
   "execution_count": 17,
   "metadata": {},
   "outputs": [
    {
     "name": "stdout",
     "output_type": "stream",
     "text": [
      "<_io.TextIOWrapper name='C:\\\\Users\\\\NSW00_906882\\\\Desktop\\\\mongo\\\\json\\\\None_chunk__1.json' mode='r' encoding='cp932'>\n",
      "普通に表示\n",
      "<class 'list'>\n",
      "きれいに表示\n",
      "<class 'str'>\n",
      "<class 'list'>\n"
     ]
    }
   ],
   "source": [
    "# jsonファイルを読み込む　※読み込めれたjsonはencode=cp932\"\"\n",
    "f = open(\"\", \"r\")\n",
    "print(f)\n",
    "\n",
    "# jsonデータを読み込んだファイルオブジェクトからpythonデータを作成\n",
    "data = json.load(f)\n",
    "# ファイルを閉じる\n",
    "f.close()\n",
    "\n",
    "# 普通の表示\n",
    "print(\"普通に表示\")\n",
    "print(type(data))\n",
    "\n",
    "# きれいに表示\n",
    "print(\"きれいに表示\")\n",
    "print(type(json.dumps(data, sort_keys=True, indent=4)))\n",
    "print(type(json.loads(json.dumps(data, sort_keys=True, indent=4))))\n",
    "\n",
    "# 中身に直接アクセス\n",
    "# print(\"中身に直接アクセス\")\n",
    "# print(data[0][\"Timestamp\"])\n",
    "# print(data[0][\"CameraId\"])\n",
    "# print(data[0][\"VenueId\"])\n",
    "# print(data[0][\"Counts\"])\n",
    "# print(\"DateTime : {obj[Timestamp]}, CameraID : {obj[CameraId]}, VenueID : {obj[VenueId]}, Category : {obj[Counts]}\".format(obj = data[0]))"
   ]
  },
  {
   "cell_type": "code",
   "execution_count": null,
   "metadata": {},
   "outputs": [],
   "source": []
  }
 ],
 "metadata": {
  "kernelspec": {
   "display_name": "Python 3",
   "language": "python",
   "name": "python3"
  },
  "language_info": {
   "codemirror_mode": {
    "name": "ipython",
    "version": 3
   },
   "file_extension": ".py",
   "mimetype": "text/x-python",
   "name": "python",
   "nbconvert_exporter": "python",
   "pygments_lexer": "ipython3",
   "version": "3.6.4"
  }
 },
 "nbformat": 4,
 "nbformat_minor": 2
}
