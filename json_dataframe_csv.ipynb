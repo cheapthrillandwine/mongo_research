{
 "cells": [
  {
   "cell_type": "code",
   "execution_count": 24,
   "metadata": {},
   "outputs": [],
   "source": [
    "import pandas as pd\n",
    "import time \n",
    "import json"
   ]
  },
  {
   "cell_type": "code",
   "execution_count": 33,
   "metadata": {},
   "outputs": [
    {
     "name": "stdout",
     "output_type": "stream",
     "text": [
      "<_io.TextIOWrapper name='C:\\\\Users\\\\NSW00_906882\\\\Desktop\\\\mongo\\\\json\\\\None_chunk__1.json' mode='r' encoding='cp932'>\n",
      "<class 'list'>\n",
      "    Category  Count      Timestamp CameraId VenueId\n",
      "0     People      4  1527659603557      C01     V01\n",
      "1     People      2  1527659603662      C02     V02\n",
      "2     People      4  1527659603710      C01     V01\n",
      "3     People      2  1527659603760      C02     V02\n",
      "4     People      3  1527659603824      C01     V01\n",
      "5     People      2  1527659603860      C02     V02\n",
      "6     People      2  1527659603924      C01     V01\n",
      "7     People      2  1527659603958      C02     V02\n",
      "8     People      3  1527659604016      C01     V01\n",
      "9     People      4  1527659604049      C02     V02\n",
      "10    People      4  1527659604092      C01     V01\n",
      "11    People      2  1527659604186      C02     V02\n",
      "12    People      4  1527659604213      C01     V01\n",
      "13    People      2  1527659604279      C02     V02\n",
      "14    People      3  1527659604306      C01     V01\n",
      "15    People      2  1527659604373      C02     V02\n",
      "16    People      2  1527659604394      C01     V01\n",
      "17    People      2  1527659604469      C02     V02\n",
      "18    People      3  1527659604485      C01     V01\n",
      "19    People      4  1527659604572      C02     V02\n",
      "20    People      4  1527659604586      C01     V01\n",
      "21    People      2  1527659604704      C02     V02\n",
      "22    People      4  1527659604737      C01     V01\n",
      "23    People      2  1527659604814      C02     V02\n",
      "24    People      3  1527659604823      C01     V01\n",
      "25    People      2  1527659604902      C02     V02\n",
      "26    People      2  1527659604923      C01     V01\n",
      "27    People      2  1527659605026      C02     V02\n",
      "28    People      3  1527659605034      C01     V01\n",
      "29    People      4  1527659605116      C02     V02\n",
      "..       ...    ...            ...      ...     ...\n",
      "970   People      5  1527659649108      C04     V04\n",
      "971   People      3  1527659649185      C01     V01\n",
      "972   People      2  1527659649206      C02     V02\n",
      "973   People      4  1527659649278      C04     V04\n",
      "974   People      2  1527659649284      C03     V03\n",
      "975   People      2  1527659649353      C01     V01\n",
      "976   People      2  1527659649378      C02     V02\n",
      "977   People      3  1527659649429      C04     V04\n",
      "978   People      3  1527659649430      C03     V03\n",
      "979   People      3  1527659649513      C01     V01\n",
      "980   People      2  1527659649563      C02     V02\n",
      "981   People      4  1527659649578      C04     V04\n",
      "982   People      4  1527659649591      C03     V03\n",
      "983   People      4  1527659649660      C01     V01\n",
      "984   People      4  1527659649698      C04     V04\n",
      "985   People      5  1527659649736      C03     V03\n",
      "986   People      2  1527659649759      C02     V02\n",
      "987   People      4  1527659649841      C01     V01\n",
      "988   People      3  1527659649883      C03     V03\n",
      "989   People      5  1527659649890      C04     V04\n",
      "990   People      4  1527659649935      C02     V02\n",
      "991   People      3  1527659650000      C01     V01\n",
      "992   People      2  1527659650043      C03     V03\n",
      "993   People      4  1527659650057      C04     V04\n",
      "994   People      2  1527659650115      C02     V02\n",
      "995   People      2  1527659650178      C01     V01\n",
      "996   People      3  1527659650217      C04     V04\n",
      "997   People      3  1527659650223      C03     V03\n",
      "998   People      2  1527659650255      C02     V02\n",
      "999   People      3  1527659650330      C01     V01\n",
      "\n",
      "[1000 rows x 5 columns]\n",
      "elapsed_time:0.16379952430725098[sec]\n"
     ]
    }
   ],
   "source": [
    "def main():\n",
    "    # 処理時間測定\n",
    "    start = time.time()\n",
    "    \n",
    "    # jsonファイルを開く\n",
    "    f = open(r\"C:\\Users\\NSW00_906882\\Desktop\\mongo\\json\\None_chunk__1.json\", \"r\")\n",
    "    \n",
    "    # json形式で読み込み(今回はlist型)\n",
    "    data = json.load(f)\n",
    "    \n",
    "    # 辞書のlistをDataFrameに変換して、そのほかのkeyはmetaで抽出\n",
    "    df = pd.io.json.json_normalize(data, record_path='Counts', meta=['Timestamp', 'CameraId', 'VenueId'])\n",
    "    \n",
    "    # DataFrameをcsvに変換    \n",
    "    csv = df.to_csv('client.csv')\n",
    "    \n",
    "    # 処理時間計算\n",
    "    elapsed_time = time.time() - start    \n",
    "    print(\"elapsed_time:{0}\".format(elapsed_time) + \"[sec]\")\n",
    "    \n",
    "if __name__ == '__main__':\n",
    "    main()\n"
   ]
  },
  {
   "cell_type": "code",
   "execution_count": null,
   "metadata": {},
   "outputs": [],
   "source": []
  }
 ],
 "metadata": {
  "kernelspec": {
   "display_name": "Python 3",
   "language": "python",
   "name": "python3"
  },
  "language_info": {
   "codemirror_mode": {
    "name": "ipython",
    "version": 3
   },
   "file_extension": ".py",
   "mimetype": "text/x-python",
   "name": "python",
   "nbconvert_exporter": "python",
   "pygments_lexer": "ipython3",
   "version": "3.6.4"
  }
 },
 "nbformat": 4,
 "nbformat_minor": 2
}
